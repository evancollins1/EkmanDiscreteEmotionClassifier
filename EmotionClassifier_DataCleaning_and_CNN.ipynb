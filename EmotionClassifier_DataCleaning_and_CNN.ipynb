{
 "cells": [
  {
   "cell_type": "markdown",
   "metadata": {},
   "source": [
    "# Emotion Classifier\n",
    "## Building CNN based on RAVDESS and TESS\n",
    "### Evan"
   ]
  },
  {
   "cell_type": "code",
   "execution_count": 2,
   "metadata": {},
   "outputs": [],
   "source": [
    "# Packages for initial data cleaning\n",
    "import librosa\n",
    "import numpy as np\n",
    "import pandas as pd\n",
    "import matplotlib.pyplot as plt\n",
    "import seaborn as sns\n",
    "import librosa.display\n",
    "import IPython.display\n",
    "import soundfile as sf\n",
    "import os\n",
    "import errno\n",
    "import glob"
   ]
  },
  {
   "cell_type": "markdown",
   "metadata": {},
   "source": [
    "### Data Preparation and Cleaning"
   ]
  },
  {
   "cell_type": "code",
   "execution_count": 3,
   "metadata": {},
   "outputs": [],
   "source": [
    "# RAVDESS audio files downloaded from\n",
    "# https://zenodo.org/record/1188976#.YBcrf3dKh6Q\n",
    "# Amend as necessary to your directory\n",
    "\n",
    "file_list_ravdess = glob.glob('/Users/Evan/Desktop/Click/Audio_Beta/RAVDESS/*/*.wav')"
   ]
  },
  {
   "cell_type": "code",
   "execution_count": 4,
   "metadata": {},
   "outputs": [],
   "source": [
    "# TESS audio files downloaded from\n",
    "# https://www.kaggle.com/ejlok1/toronto-emotional-speech-set-tess\n",
    "# Amend as necessary to your directory\n",
    "file_list_tess = glob.glob('/Users/Evan/Desktop/Click/TESS/*/*.wav')"
   ]
  },
  {
   "cell_type": "code",
   "execution_count": 5,
   "metadata": {},
   "outputs": [],
   "source": [
    "# Remove dead space in audio\n",
    "# (Every 1/10 second compares to threshold)\n",
    "\n",
    "def envelope(y, sr, threshold):\n",
    "    mask = []\n",
    "    y_abs = pd.Series(y).apply(np.abs)\n",
    "    y_mean = y_abs.rolling(window = int(sr/10), min_periods = 1, center = True).mean()\n",
    "    for mean in y_mean:\n",
    "        if mean > threshold:\n",
    "            mask.append(True)\n",
    "        else:\n",
    "            mask.append(False)\n",
    "    return np.array(y[mask])"
   ]
  },
  {
   "cell_type": "code",
   "execution_count": 6,
   "metadata": {},
   "outputs": [],
   "source": [
    "def clean_files(files_list):\n",
    "    \n",
    "    count = 0\n",
    "\n",
    "    for file in files_list:\n",
    "        y, sr = librosa.load(file)\n",
    "        y = envelope(y, sr, 0.0005)\n",
    "        save_file = 'clean/' + file\n",
    "        \n",
    "        if not os.path.exists(os.path.dirname(save_file)):\n",
    "            try:\n",
    "                os.makedirs(os.path.dirname(save_file))\n",
    "            except OSError as exc: # Guard against race condition\n",
    "                if exc.errno != errno.EEXIST:\n",
    "                    raise\n",
    "        \n",
    "        with open(save_file, 'w') as new_file:\n",
    "            sf.write(save_file, y, sr)\n",
    "            new_file.close()\n",
    "            \n",
    "        count += 1\n",
    "        if count % 100 == 0:\n",
    "            print('Successfully cleaned and saved 100 files')\n",
    "    \n",
    "    print(\"Finished\")"
   ]
  },
  {
   "cell_type": "code",
   "execution_count": 7,
   "metadata": {},
   "outputs": [
    {
     "name": "stdout",
     "output_type": "stream",
     "text": [
      "Successfully cleaned and saved 100 files\n",
      "Successfully cleaned and saved 100 files\n",
      "Successfully cleaned and saved 100 files\n",
      "Successfully cleaned and saved 100 files\n",
      "Successfully cleaned and saved 100 files\n",
      "Successfully cleaned and saved 100 files\n",
      "Successfully cleaned and saved 100 files\n",
      "Successfully cleaned and saved 100 files\n",
      "Successfully cleaned and saved 100 files\n",
      "Successfully cleaned and saved 100 files\n",
      "Successfully cleaned and saved 100 files\n",
      "Successfully cleaned and saved 100 files\n",
      "Successfully cleaned and saved 100 files\n",
      "Successfully cleaned and saved 100 files\n",
      "Finished\n"
     ]
    }
   ],
   "source": [
    "clean_files(file_list_ravdess)"
   ]
  },
  {
   "cell_type": "code",
   "execution_count": 8,
   "metadata": {},
   "outputs": [
    {
     "name": "stdout",
     "output_type": "stream",
     "text": [
      "Successfully cleaned and saved 100 files\n",
      "Successfully cleaned and saved 100 files\n",
      "Successfully cleaned and saved 100 files\n",
      "Successfully cleaned and saved 100 files\n",
      "Successfully cleaned and saved 100 files\n",
      "Successfully cleaned and saved 100 files\n",
      "Successfully cleaned and saved 100 files\n",
      "Successfully cleaned and saved 100 files\n",
      "Successfully cleaned and saved 100 files\n",
      "Successfully cleaned and saved 100 files\n",
      "Successfully cleaned and saved 100 files\n",
      "Successfully cleaned and saved 100 files\n",
      "Successfully cleaned and saved 100 files\n",
      "Successfully cleaned and saved 100 files\n",
      "Successfully cleaned and saved 100 files\n",
      "Successfully cleaned and saved 100 files\n",
      "Successfully cleaned and saved 100 files\n",
      "Successfully cleaned and saved 100 files\n",
      "Successfully cleaned and saved 100 files\n",
      "Successfully cleaned and saved 100 files\n",
      "Successfully cleaned and saved 100 files\n",
      "Successfully cleaned and saved 100 files\n",
      "Successfully cleaned and saved 100 files\n",
      "Successfully cleaned and saved 100 files\n",
      "Successfully cleaned and saved 100 files\n",
      "Successfully cleaned and saved 100 files\n",
      "Successfully cleaned and saved 100 files\n",
      "Successfully cleaned and saved 100 files\n",
      "Finished\n"
     ]
    }
   ],
   "source": [
    "clean_files(file_list_tess)"
   ]
  },
  {
   "cell_type": "code",
   "execution_count": 9,
   "metadata": {},
   "outputs": [],
   "source": [
    "# Amend as necessary to your directory\n",
    "\n",
    "ravdess_clean_list = glob.glob('/Users/Evan/Desktop/Click/clean/Users/Evan/Desktop/Click/Audio_Beta/RAVDESS/*/*.wav')"
   ]
  },
  {
   "cell_type": "code",
   "execution_count": 10,
   "metadata": {},
   "outputs": [],
   "source": [
    "# Function to make RAVDESS index\n",
    "\n",
    "def make_ravdess_index(file_list):\n",
    "    \n",
    "    emotion_labels = {'01': 'neutral', '02': 'calm', '03': 'happy', '04': 'sad', '05': 'angry', '06': 'fearful', '07': 'disgusted', '08': 'surprised'}\n",
    "    intensity_labels = {'01': 'normal', '02': 'strong'}\n",
    "\n",
    "    df = {'dataset': [], 'filename': [], 'actor': [], 'emotion': [], 'intensity': [], 'statement': [], 'repitition': [], 'length': [], 'gender': []}\n",
    "\n",
    "    for file in file_list:\n",
    "        df['dataset'].append('RAVDESS')\n",
    "        \n",
    "        df['filename'].append(file)\n",
    "\n",
    "        props = file.split('/')[13].split('.')[0].split('-')\n",
    "        df['actor'].append(props[6])\n",
    "        df['emotion'].append(emotion_labels[props[2]])\n",
    "        df['intensity'].append(intensity_labels[props[3]])\n",
    "        df['statement'].append(props[4])\n",
    "        df['repitition'].append(props[5])\n",
    "\n",
    "        if int(props[6]) % 2 == 0:\n",
    "            df['gender'].append('female')\n",
    "        else:\n",
    "            df['gender'].append('male')\n",
    "\n",
    "        y, sr = librosa.load(file)\n",
    "        df['length'].append(y.shape[0]/sr)\n",
    "\n",
    "    file_dataframe = pd.DataFrame(df)\n",
    "    \n",
    "    return file_dataframe"
   ]
  },
  {
   "cell_type": "code",
   "execution_count": 11,
   "metadata": {},
   "outputs": [],
   "source": [
    "ravdess_index = make_ravdess_index(ravdess_clean_list)"
   ]
  },
  {
   "cell_type": "code",
   "execution_count": 12,
   "metadata": {},
   "outputs": [
    {
     "data": {
      "text/plain": [
       "surprised    192\n",
       "sad          192\n",
       "calm         192\n",
       "fearful      192\n",
       "angry        192\n",
       "disgusted    192\n",
       "happy        192\n",
       "neutral       96\n",
       "Name: emotion, dtype: int64"
      ]
     },
     "execution_count": 12,
     "metadata": {},
     "output_type": "execute_result"
    }
   ],
   "source": [
    "ravdess_index['emotion'].value_counts()"
   ]
  },
  {
   "cell_type": "code",
   "execution_count": 13,
   "metadata": {},
   "outputs": [],
   "source": [
    "# Amend as necessary to your directory\n",
    "\n",
    "tess_clean_list = glob.glob('/Users/Evan/Desktop/Click/clean/Users/Evan/Desktop/Click/TESS/*/*.wav')"
   ]
  },
  {
   "cell_type": "code",
   "execution_count": 14,
   "metadata": {},
   "outputs": [],
   "source": [
    "# Function to make TESS index\n",
    "\n",
    "def make_tess_index(file_list):\n",
    "    \n",
    "    emotion_labels = {'neutral': 'neutral', 'happy': 'happy', 'sad': 'sad', 'angry': 'angry',\n",
    "                   'fear': 'fearful', 'disgust': 'disgusted', 'ps': 'surprised'}\n",
    "\n",
    "    df = {'dataset': [], 'filename': [], 'actor': [], 'emotion': [], 'statement': [], 'length': [], 'gender': []}\n",
    "\n",
    "    for file in file_list:\n",
    "        df['dataset'].append('TESS')\n",
    "        \n",
    "        df['filename'].append(file)\n",
    "        \n",
    "        props = file.split('/')[12].split('_')\n",
    "        df['actor'].append(props[0])\n",
    "        df['emotion'].append(emotion_labels[props[2][:-4]])\n",
    "        df['statement'].append(props[1])\n",
    "        df['gender'].append('female')\n",
    "\n",
    "        y, sr = librosa.load(file)\n",
    "        df['length'].append(y.shape[0]/sr)\n",
    "\n",
    "    file_properties = pd.DataFrame(df)\n",
    "    \n",
    "    return file_properties"
   ]
  },
  {
   "cell_type": "code",
   "execution_count": 15,
   "metadata": {},
   "outputs": [],
   "source": [
    "tess_index = make_tess_index(tess_clean_list)"
   ]
  },
  {
   "cell_type": "code",
   "execution_count": 16,
   "metadata": {},
   "outputs": [
    {
     "data": {
      "text/plain": [
       "neutral      400\n",
       "surprised    400\n",
       "sad          400\n",
       "fearful      400\n",
       "happy        400\n",
       "angry        400\n",
       "disgusted    400\n",
       "Name: emotion, dtype: int64"
      ]
     },
     "execution_count": 16,
     "metadata": {},
     "output_type": "execute_result"
    }
   ],
   "source": [
    "tess_index['emotion'].value_counts()"
   ]
  },
  {
   "cell_type": "code",
   "execution_count": 17,
   "metadata": {},
   "outputs": [],
   "source": [
    "# Save to .csv\n",
    "\n",
    "ravdess_index.to_csv('ravdess_index.csv')\n",
    "tess_index.to_csv('tess_index.csv')"
   ]
  },
  {
   "cell_type": "code",
   "execution_count": 18,
   "metadata": {},
   "outputs": [],
   "source": [
    "# Reduce to columns of interest\n",
    "\n",
    "shared_names = ['dataset', 'filename', 'actor', 'emotion', 'length', 'gender']\n",
    "\n",
    "complete_index = pd.concat([ravdess_index[shared_names], tess_index[shared_names]], axis = 0)\n",
    "complete_index.reset_index(drop = True, inplace = True)"
   ]
  },
  {
   "cell_type": "code",
   "execution_count": 19,
   "metadata": {},
   "outputs": [],
   "source": [
    "# Remove calm considering its similarities with neutral\n",
    "complete_index = complete_index.drop(list(complete_index[complete_index['emotion'] == 'calm'].index), axis = 0).reset_index(drop = True)"
   ]
  },
  {
   "cell_type": "code",
   "execution_count": 20,
   "metadata": {},
   "outputs": [
    {
     "data": {
      "text/plain": [
       "surprised    592\n",
       "sad          592\n",
       "fearful      592\n",
       "happy        592\n",
       "angry        592\n",
       "disgusted    592\n",
       "neutral      496\n",
       "Name: emotion, dtype: int64"
      ]
     },
     "execution_count": 20,
     "metadata": {},
     "output_type": "execute_result"
    }
   ],
   "source": [
    "complete_index['emotion'].value_counts()"
   ]
  },
  {
   "cell_type": "code",
   "execution_count": 21,
   "metadata": {},
   "outputs": [
    {
     "data": {
      "text/plain": [
       "(4048, 6)"
      ]
     },
     "execution_count": 21,
     "metadata": {},
     "output_type": "execute_result"
    }
   ],
   "source": [
    "complete_index.shape"
   ]
  },
  {
   "cell_type": "code",
   "execution_count": 22,
   "metadata": {},
   "outputs": [],
   "source": [
    "# Split into training and test sets\n",
    "from sklearn.model_selection import train_test_split"
   ]
  },
  {
   "cell_type": "code",
   "execution_count": 23,
   "metadata": {},
   "outputs": [],
   "source": [
    "def assign_sets(complete_index):\n",
    "    train, test = train_test_split(complete_index, test_size = 0.2, random_state = 42)\n",
    "    # validation, test = train_test_split(_test, test_size = 0.5, random_state = 42)\n",
    "    \n",
    "    set_list = []\n",
    "    \n",
    "    for file in complete_index['filename']:\n",
    "        if file in list(train['filename']):\n",
    "            set_list.append('train')\n",
    "#         if file in list(validation['filename']):\n",
    "#             set_list.append('validation')\n",
    "        if file in list(test['filename']):\n",
    "            set_list.append('test')\n",
    "    \n",
    "    complete_index['set'] = set_list\n",
    "    \n",
    "    return complete_index"
   ]
  },
  {
   "cell_type": "code",
   "execution_count": 24,
   "metadata": {},
   "outputs": [],
   "source": [
    "complete_index = assign_sets(complete_index)"
   ]
  },
  {
   "cell_type": "code",
   "execution_count": 25,
   "metadata": {},
   "outputs": [
    {
     "data": {
      "text/plain": [
       "fearful      483\n",
       "happy        479\n",
       "angry        477\n",
       "disgusted    476\n",
       "sad          468\n",
       "surprised    466\n",
       "neutral      389\n",
       "Name: emotion, dtype: int64"
      ]
     },
     "execution_count": 25,
     "metadata": {},
     "output_type": "execute_result"
    }
   ],
   "source": [
    "complete_index[complete_index['set'] == 'train']['emotion'].value_counts()"
   ]
  },
  {
   "cell_type": "code",
   "execution_count": 26,
   "metadata": {},
   "outputs": [
    {
     "data": {
      "text/plain": [
       "(3238, 7)"
      ]
     },
     "execution_count": 26,
     "metadata": {},
     "output_type": "execute_result"
    }
   ],
   "source": [
    "complete_index[complete_index['set'] == 'train'].shape"
   ]
  },
  {
   "cell_type": "code",
   "execution_count": 27,
   "metadata": {},
   "outputs": [
    {
     "data": {
      "text/plain": [
       "surprised    126\n",
       "sad          124\n",
       "disgusted    116\n",
       "angry        115\n",
       "happy        113\n",
       "fearful      109\n",
       "neutral      107\n",
       "Name: emotion, dtype: int64"
      ]
     },
     "execution_count": 27,
     "metadata": {},
     "output_type": "execute_result"
    }
   ],
   "source": [
    "complete_index[complete_index['set'] == 'test']['emotion'].value_counts()"
   ]
  },
  {
   "cell_type": "code",
   "execution_count": 28,
   "metadata": {},
   "outputs": [],
   "source": [
    "complete_index.to_csv('complete_index.csv')"
   ]
  },
  {
   "cell_type": "code",
   "execution_count": 29,
   "metadata": {},
   "outputs": [],
   "source": [
    "# Everything above is for loading and cleaning data\n",
    "# Everything below is for measuring MFCCs and making the convolutional neural network"
   ]
  },
  {
   "cell_type": "markdown",
   "metadata": {},
   "source": [
    "### Measuring MFCCs and Making CNN"
   ]
  },
  {
   "cell_type": "code",
   "execution_count": 30,
   "metadata": {},
   "outputs": [],
   "source": [
    "# Load packages\n",
    "\n",
    "import numpy as np\n",
    "import pandas as pd\n",
    "import librosa\n",
    "from tqdm import tqdm\n",
    "from keras.utils import to_categorical\n",
    "from keras.models import Sequential\n",
    "from keras.layers import Conv2D, MaxPool2D, Flatten, Dropout, Dense\n",
    "from sklearn.utils.class_weight import compute_class_weight\n",
    "from sklearn.metrics import confusion_matrix\n",
    "import seaborn as sns\n",
    "import matplotlib.pyplot as plt\n",
    "import pickle\n",
    "%matplotlib inline"
   ]
  },
  {
   "cell_type": "code",
   "execution_count": 31,
   "metadata": {},
   "outputs": [],
   "source": [
    "file_dataframe = pd.read_csv('complete_index.csv')"
   ]
  },
  {
   "cell_type": "code",
   "execution_count": 32,
   "metadata": {},
   "outputs": [
    {
     "data": {
      "text/plain": [
       "133.9647747543462"
      ]
     },
     "execution_count": 32,
     "metadata": {},
     "output_type": "execute_result"
    }
   ],
   "source": [
    "file_dataframe['length'].sum() / 60"
   ]
  },
  {
   "cell_type": "code",
   "execution_count": 33,
   "metadata": {},
   "outputs": [
    {
     "data": {
      "text/html": [
       "<div>\n",
       "<style scoped>\n",
       "    .dataframe tbody tr th:only-of-type {\n",
       "        vertical-align: middle;\n",
       "    }\n",
       "\n",
       "    .dataframe tbody tr th {\n",
       "        vertical-align: top;\n",
       "    }\n",
       "\n",
       "    .dataframe thead th {\n",
       "        text-align: right;\n",
       "    }\n",
       "</style>\n",
       "<table border=\"1\" class=\"dataframe\">\n",
       "  <thead>\n",
       "    <tr style=\"text-align: right;\">\n",
       "      <th></th>\n",
       "      <th>Unnamed: 0</th>\n",
       "      <th>dataset</th>\n",
       "      <th>filename</th>\n",
       "      <th>actor</th>\n",
       "      <th>emotion</th>\n",
       "      <th>length</th>\n",
       "      <th>gender</th>\n",
       "      <th>set</th>\n",
       "    </tr>\n",
       "  </thead>\n",
       "  <tbody>\n",
       "    <tr>\n",
       "      <th>0</th>\n",
       "      <td>0</td>\n",
       "      <td>RAVDESS</td>\n",
       "      <td>/Users/Evan/Desktop/Click/clean/Users/Evan/Des...</td>\n",
       "      <td>16</td>\n",
       "      <td>angry</td>\n",
       "      <td>1.994830</td>\n",
       "      <td>female</td>\n",
       "      <td>train</td>\n",
       "    </tr>\n",
       "    <tr>\n",
       "      <th>1</th>\n",
       "      <td>1</td>\n",
       "      <td>RAVDESS</td>\n",
       "      <td>/Users/Evan/Desktop/Click/clean/Users/Evan/Des...</td>\n",
       "      <td>16</td>\n",
       "      <td>fearful</td>\n",
       "      <td>1.803583</td>\n",
       "      <td>female</td>\n",
       "      <td>train</td>\n",
       "    </tr>\n",
       "    <tr>\n",
       "      <th>2</th>\n",
       "      <td>2</td>\n",
       "      <td>RAVDESS</td>\n",
       "      <td>/Users/Evan/Desktop/Click/clean/Users/Evan/Des...</td>\n",
       "      <td>16</td>\n",
       "      <td>fearful</td>\n",
       "      <td>2.337823</td>\n",
       "      <td>female</td>\n",
       "      <td>train</td>\n",
       "    </tr>\n",
       "    <tr>\n",
       "      <th>3</th>\n",
       "      <td>3</td>\n",
       "      <td>RAVDESS</td>\n",
       "      <td>/Users/Evan/Desktop/Click/clean/Users/Evan/Des...</td>\n",
       "      <td>16</td>\n",
       "      <td>angry</td>\n",
       "      <td>2.045805</td>\n",
       "      <td>female</td>\n",
       "      <td>train</td>\n",
       "    </tr>\n",
       "    <tr>\n",
       "      <th>4</th>\n",
       "      <td>4</td>\n",
       "      <td>RAVDESS</td>\n",
       "      <td>/Users/Evan/Desktop/Click/clean/Users/Evan/Des...</td>\n",
       "      <td>16</td>\n",
       "      <td>disgusted</td>\n",
       "      <td>1.823946</td>\n",
       "      <td>female</td>\n",
       "      <td>train</td>\n",
       "    </tr>\n",
       "    <tr>\n",
       "      <th>...</th>\n",
       "      <td>...</td>\n",
       "      <td>...</td>\n",
       "      <td>...</td>\n",
       "      <td>...</td>\n",
       "      <td>...</td>\n",
       "      <td>...</td>\n",
       "      <td>...</td>\n",
       "      <td>...</td>\n",
       "    </tr>\n",
       "    <tr>\n",
       "      <th>4043</th>\n",
       "      <td>4043</td>\n",
       "      <td>TESS</td>\n",
       "      <td>/Users/Evan/Desktop/Click/clean/Users/Evan/Des...</td>\n",
       "      <td>OAF</td>\n",
       "      <td>sad</td>\n",
       "      <td>2.549025</td>\n",
       "      <td>female</td>\n",
       "      <td>train</td>\n",
       "    </tr>\n",
       "    <tr>\n",
       "      <th>4044</th>\n",
       "      <td>4044</td>\n",
       "      <td>TESS</td>\n",
       "      <td>/Users/Evan/Desktop/Click/clean/Users/Evan/Des...</td>\n",
       "      <td>OAF</td>\n",
       "      <td>sad</td>\n",
       "      <td>2.515873</td>\n",
       "      <td>female</td>\n",
       "      <td>train</td>\n",
       "    </tr>\n",
       "    <tr>\n",
       "      <th>4045</th>\n",
       "      <td>4045</td>\n",
       "      <td>TESS</td>\n",
       "      <td>/Users/Evan/Desktop/Click/clean/Users/Evan/Des...</td>\n",
       "      <td>OAF</td>\n",
       "      <td>sad</td>\n",
       "      <td>2.444535</td>\n",
       "      <td>female</td>\n",
       "      <td>test</td>\n",
       "    </tr>\n",
       "    <tr>\n",
       "      <th>4046</th>\n",
       "      <td>4046</td>\n",
       "      <td>TESS</td>\n",
       "      <td>/Users/Evan/Desktop/Click/clean/Users/Evan/Des...</td>\n",
       "      <td>OAF</td>\n",
       "      <td>sad</td>\n",
       "      <td>2.397234</td>\n",
       "      <td>female</td>\n",
       "      <td>train</td>\n",
       "    </tr>\n",
       "    <tr>\n",
       "      <th>4047</th>\n",
       "      <td>4047</td>\n",
       "      <td>TESS</td>\n",
       "      <td>/Users/Evan/Desktop/Click/clean/Users/Evan/Des...</td>\n",
       "      <td>OAF</td>\n",
       "      <td>sad</td>\n",
       "      <td>2.261134</td>\n",
       "      <td>female</td>\n",
       "      <td>train</td>\n",
       "    </tr>\n",
       "  </tbody>\n",
       "</table>\n",
       "<p>4048 rows × 8 columns</p>\n",
       "</div>"
      ],
      "text/plain": [
       "      Unnamed: 0  dataset                                           filename  \\\n",
       "0              0  RAVDESS  /Users/Evan/Desktop/Click/clean/Users/Evan/Des...   \n",
       "1              1  RAVDESS  /Users/Evan/Desktop/Click/clean/Users/Evan/Des...   \n",
       "2              2  RAVDESS  /Users/Evan/Desktop/Click/clean/Users/Evan/Des...   \n",
       "3              3  RAVDESS  /Users/Evan/Desktop/Click/clean/Users/Evan/Des...   \n",
       "4              4  RAVDESS  /Users/Evan/Desktop/Click/clean/Users/Evan/Des...   \n",
       "...          ...      ...                                                ...   \n",
       "4043        4043     TESS  /Users/Evan/Desktop/Click/clean/Users/Evan/Des...   \n",
       "4044        4044     TESS  /Users/Evan/Desktop/Click/clean/Users/Evan/Des...   \n",
       "4045        4045     TESS  /Users/Evan/Desktop/Click/clean/Users/Evan/Des...   \n",
       "4046        4046     TESS  /Users/Evan/Desktop/Click/clean/Users/Evan/Des...   \n",
       "4047        4047     TESS  /Users/Evan/Desktop/Click/clean/Users/Evan/Des...   \n",
       "\n",
       "     actor    emotion    length  gender    set  \n",
       "0       16      angry  1.994830  female  train  \n",
       "1       16    fearful  1.803583  female  train  \n",
       "2       16    fearful  2.337823  female  train  \n",
       "3       16      angry  2.045805  female  train  \n",
       "4       16  disgusted  1.823946  female  train  \n",
       "...    ...        ...       ...     ...    ...  \n",
       "4043   OAF        sad  2.549025  female  train  \n",
       "4044   OAF        sad  2.515873  female  train  \n",
       "4045   OAF        sad  2.444535  female   test  \n",
       "4046   OAF        sad  2.397234  female  train  \n",
       "4047   OAF        sad  2.261134  female  train  \n",
       "\n",
       "[4048 rows x 8 columns]"
      ]
     },
     "execution_count": 33,
     "metadata": {},
     "output_type": "execute_result"
    }
   ],
   "source": [
    "file_dataframe"
   ]
  },
  {
   "cell_type": "code",
   "execution_count": 34,
   "metadata": {},
   "outputs": [
    {
     "name": "stderr",
     "output_type": "stream",
     "text": [
      "/Users/Evan/opt/anaconda3/lib/python3.8/site-packages/pandas/core/frame.py:3990: SettingWithCopyWarning: \n",
      "A value is trying to be set on a copy of a slice from a DataFrame\n",
      "\n",
      "See the caveats in the documentation: https://pandas.pydata.org/pandas-docs/stable/user_guide/indexing.html#returning-a-view-versus-a-copy\n",
      "  return super().drop(\n"
     ]
    }
   ],
   "source": [
    "train = file_dataframe[file_dataframe['set'] == 'train']\n",
    "# val = file_dataframe[file_dataframe['set'] == 'validation']\n",
    "test = file_dataframe[file_dataframe['set'] == 'test']\n",
    "train.drop('Unnamed: 0', inplace = True, axis = 1)\n",
    "# val.drop('Unnamed: 0', inplace = True, axis = 1)\n",
    "test.drop('Unnamed: 0', inplace = True, axis = 1)"
   ]
  },
  {
   "cell_type": "code",
   "execution_count": 35,
   "metadata": {},
   "outputs": [
    {
     "data": {
      "text/html": [
       "<div>\n",
       "<style scoped>\n",
       "    .dataframe tbody tr th:only-of-type {\n",
       "        vertical-align: middle;\n",
       "    }\n",
       "\n",
       "    .dataframe tbody tr th {\n",
       "        vertical-align: top;\n",
       "    }\n",
       "\n",
       "    .dataframe thead th {\n",
       "        text-align: right;\n",
       "    }\n",
       "</style>\n",
       "<table border=\"1\" class=\"dataframe\">\n",
       "  <thead>\n",
       "    <tr style=\"text-align: right;\">\n",
       "      <th></th>\n",
       "      <th>dataset</th>\n",
       "      <th>filename</th>\n",
       "      <th>actor</th>\n",
       "      <th>emotion</th>\n",
       "      <th>length</th>\n",
       "      <th>gender</th>\n",
       "      <th>set</th>\n",
       "    </tr>\n",
       "  </thead>\n",
       "  <tbody>\n",
       "    <tr>\n",
       "      <th>1010</th>\n",
       "      <td>RAVDESS</td>\n",
       "      <td>/Users/Evan/Desktop/Click/clean/Users/Evan/Des...</td>\n",
       "      <td>09</td>\n",
       "      <td>sad</td>\n",
       "      <td>0.449977</td>\n",
       "      <td>male</td>\n",
       "      <td>train</td>\n",
       "    </tr>\n",
       "  </tbody>\n",
       "</table>\n",
       "</div>"
      ],
      "text/plain": [
       "      dataset                                           filename actor  \\\n",
       "1010  RAVDESS  /Users/Evan/Desktop/Click/clean/Users/Evan/Des...    09   \n",
       "\n",
       "     emotion    length gender    set  \n",
       "1010     sad  0.449977   male  train  "
      ]
     },
     "execution_count": 35,
     "metadata": {},
     "output_type": "execute_result"
    }
   ],
   "source": [
    "# Troubleshoot: Remove file from RAVDESS that is too short after noise level detection; causes testing problems\n",
    "\n",
    "train[train['length'] == train['length'].min()]"
   ]
  },
  {
   "cell_type": "code",
   "execution_count": 36,
   "metadata": {},
   "outputs": [
    {
     "name": "stderr",
     "output_type": "stream",
     "text": [
      "/Users/Evan/opt/anaconda3/lib/python3.8/site-packages/pandas/core/frame.py:3990: SettingWithCopyWarning: \n",
      "A value is trying to be set on a copy of a slice from a DataFrame\n",
      "\n",
      "See the caveats in the documentation: https://pandas.pydata.org/pandas-docs/stable/user_guide/indexing.html#returning-a-view-versus-a-copy\n",
      "  return super().drop(\n"
     ]
    }
   ],
   "source": [
    "train.drop(index = 1010, inplace = True)"
   ]
  },
  {
   "cell_type": "code",
   "execution_count": 37,
   "metadata": {},
   "outputs": [],
   "source": [
    "# Class distribution in training dataset\n",
    "\n",
    "class_dist = train['emotion'].value_counts()\n",
    "# Write as proportion\n",
    "prob_dist = class_dist / class_dist.sum()"
   ]
  },
  {
   "cell_type": "code",
   "execution_count": 38,
   "metadata": {},
   "outputs": [],
   "source": [
    "classes = pd.DataFrame({'emotion': ['neutral', 'happy', 'sad', 'angry', 'fearful', 'disgusted', 'surprised']})"
   ]
  },
  {
   "cell_type": "code",
   "execution_count": 39,
   "metadata": {},
   "outputs": [],
   "source": [
    "# Create configuration class to adjust parameters later if necessary\n",
    "\n",
    "class Config:\n",
    "    def __init__(self, n_mfcc = 26, n_feat = 13, n_fft = 552, sr = 22050, window = 0.4, test_shift = 0.1):\n",
    "        self.n_mfcc = n_mfcc\n",
    "        self.n_feat = n_feat\n",
    "        self.n_fft = n_fft\n",
    "        self.sr = sr\n",
    "        self.window = window\n",
    "        self.step = int(sr * window)\n",
    "        self.test_shift = test_shift\n",
    "        self.shift = int(sr * test_shift)\n",
    "        \n",
    "config = Config()"
   ]
  },
  {
   "cell_type": "code",
   "execution_count": 40,
   "metadata": {},
   "outputs": [],
   "source": [
    "# Function to calculate MFCCs on data\n",
    "\n",
    "def build_train_feats():\n",
    "    X = []\n",
    "    y = []\n",
    "    \n",
    "    for row in train.iterrows():\n",
    "        \n",
    "        # Initialize min and max values for each file for scaling\n",
    "        _min, _max = float('inf'), -float('inf')\n",
    "        \n",
    "        # Load the file\n",
    "        wav, sr = librosa.load(row[1]['filename'])\n",
    "        \n",
    "        # Create an array to hold features for each window generated from specific file\n",
    "        Xf = []\n",
    "        \n",
    "        # Create randomly selected 0.4s windows from each file. Select 1 random window for every 0.1s of audio in file.\n",
    "        \n",
    "        n_samples =  int(10 * float(row[1]['length'])) \n",
    "              \n",
    "        for i in range(n_samples):\n",
    "            \n",
    "            # Get the numerical label for the emotion of the file\n",
    "            # This needs to be in for loop so that y.shape and X.shape match up\n",
    "            y.append(classes[classes['emotion'] == row[1]['emotion']].index[0])\n",
    "            \n",
    "            # choose random starting point for window\n",
    "            rand_ind = np.random.randint(0, wav.shape[0] - config.step)\n",
    "            # create windowed sample\n",
    "            X_sample = wav[rand_ind: rand_ind + config.step]\n",
    "            # generate mfccs from sample\n",
    "            X_mfccs = librosa.feature.mfcc(X_sample, sr, n_mfcc = config.n_mfcc, n_fft = config.n_fft,\n",
    "                                            hop_length = config.n_fft)[1:config.n_feat + 1]\n",
    "             # check min and max values\n",
    "            _min = min(np.amin(X_mfccs), _min)\n",
    "            _max = max(np.amax(X_mfccs), _max)\n",
    "            # add features of window to X\n",
    "            Xf.append(X_mfccs)\n",
    "        \n",
    "        # Put window data for file into array and scale\n",
    "        Xf = np.array(Xf)\n",
    "        Xf = (Xf - _min) / (_max - _min)\n",
    "        \n",
    "        # Now that data is scaled, pick out each window from Xf and add that to X\n",
    "        for ar in Xf:\n",
    "            X.append(ar)\n",
    "        \n",
    "    \n",
    "    # Once windows have been taken from every file reshape X\n",
    "    X = np.array(X)\n",
    "    X = X.reshape(X.shape[0], X.shape[1], X.shape[2], 1)\n",
    "    y = to_categorical(y, num_classes = 7)\n",
    "    \n",
    "    return X, y"
   ]
  },
  {
   "cell_type": "code",
   "execution_count": 41,
   "metadata": {},
   "outputs": [],
   "source": [
    "X, y = build_train_feats()"
   ]
  },
  {
   "cell_type": "code",
   "execution_count": 42,
   "metadata": {},
   "outputs": [],
   "source": [
    "y_flat = np.argmax(y, axis = 1)\n",
    "input_shape = (X.shape[1], X.shape[2], 1)"
   ]
  },
  {
   "cell_type": "code",
   "execution_count": 43,
   "metadata": {},
   "outputs": [
    {
     "data": {
      "text/plain": [
       "array([3, 3, 3, ..., 2, 2, 2])"
      ]
     },
     "execution_count": 43,
     "metadata": {},
     "output_type": "execute_result"
    }
   ],
   "source": [
    "y_flat = np.argmax(y, axis = 1)\n",
    "y_flat"
   ]
  },
  {
   "cell_type": "code",
   "execution_count": 44,
   "metadata": {},
   "outputs": [],
   "source": [
    "# Function to create CNN\n",
    "\n",
    "def create_cnn():\n",
    "    model = Sequential()\n",
    "    model.add(Conv2D(16, (3,3), activation = 'relu', strides = (1,1), padding = 'same', input_shape = input_shape))\n",
    "    model.add(Conv2D(32, (3,3), activation = 'relu', strides = (1,1), padding = 'same'))\n",
    "    model.add(Conv2D(64, (3,3), activation = 'relu', strides = (1,1), padding = 'same'))\n",
    "    model.add(Conv2D(128, (3,3), activation = 'relu', strides = (1,1), padding = 'same'))\n",
    "    model.add(MaxPool2D((2,2)))\n",
    "    model.add(Dropout(0.5))\n",
    "    model.add(Flatten())\n",
    "    model.add(Dense(128, activation ='relu'))\n",
    "    model.add(Dense(64, activation ='relu'))\n",
    "    model.add(Dense(7, activation ='softmax'))\n",
    "    model.summary()\n",
    "    model.compile(loss = 'categorical_crossentropy', optimizer = 'adam', metrics = ['acc'])\n",
    "    return model"
   ]
  },
  {
   "cell_type": "code",
   "execution_count": 45,
   "metadata": {},
   "outputs": [
    {
     "name": "stdout",
     "output_type": "stream",
     "text": [
      "Model: \"sequential\"\n",
      "_________________________________________________________________\n",
      "Layer (type)                 Output Shape              Param #   \n",
      "=================================================================\n",
      "conv2d (Conv2D)              (None, 13, 16, 16)        160       \n",
      "_________________________________________________________________\n",
      "conv2d_1 (Conv2D)            (None, 13, 16, 32)        4640      \n",
      "_________________________________________________________________\n",
      "conv2d_2 (Conv2D)            (None, 13, 16, 64)        18496     \n",
      "_________________________________________________________________\n",
      "conv2d_3 (Conv2D)            (None, 13, 16, 128)       73856     \n",
      "_________________________________________________________________\n",
      "max_pooling2d (MaxPooling2D) (None, 6, 8, 128)         0         \n",
      "_________________________________________________________________\n",
      "dropout (Dropout)            (None, 6, 8, 128)         0         \n",
      "_________________________________________________________________\n",
      "flatten (Flatten)            (None, 6144)              0         \n",
      "_________________________________________________________________\n",
      "dense (Dense)                (None, 128)               786560    \n",
      "_________________________________________________________________\n",
      "dense_1 (Dense)              (None, 64)                8256      \n",
      "_________________________________________________________________\n",
      "dense_2 (Dense)              (None, 7)                 455       \n",
      "=================================================================\n",
      "Total params: 892,423\n",
      "Trainable params: 892,423\n",
      "Non-trainable params: 0\n",
      "_________________________________________________________________\n",
      "Epoch 1/25\n",
      "1957/1957 [==============================] - 84s 43ms/step - loss: 1.2374 - acc: 0.5174\n",
      "Epoch 2/25\n",
      "1957/1957 [==============================] - 84s 43ms/step - loss: 0.8130 - acc: 0.6918\n",
      "Epoch 3/25\n",
      "1957/1957 [==============================] - 80s 41ms/step - loss: 0.6921 - acc: 0.7408\n",
      "Epoch 4/25\n",
      "1957/1957 [==============================] - 80s 41ms/step - loss: 0.6202 - acc: 0.7690\n",
      "Epoch 5/25\n",
      "1957/1957 [==============================] - 80s 41ms/step - loss: 0.5624 - acc: 0.7890\n",
      "Epoch 6/25\n",
      "1957/1957 [==============================] - 79s 40ms/step - loss: 0.5190 - acc: 0.8073\n",
      "Epoch 7/25\n",
      "1957/1957 [==============================] - 80s 41ms/step - loss: 0.4765 - acc: 0.8238\n",
      "Epoch 8/25\n",
      "1957/1957 [==============================] - 80s 41ms/step - loss: 0.4361 - acc: 0.8402\n",
      "Epoch 9/25\n",
      "1957/1957 [==============================] - 81s 41ms/step - loss: 0.4185 - acc: 0.8468\n",
      "Epoch 10/25\n",
      "1957/1957 [==============================] - 81s 41ms/step - loss: 0.3907 - acc: 0.8583\n",
      "Epoch 11/25\n",
      "1957/1957 [==============================] - 82s 42ms/step - loss: 0.3681 - acc: 0.8671\n",
      "Epoch 12/25\n",
      "1957/1957 [==============================] - 81s 41ms/step - loss: 0.3459 - acc: 0.8752\n",
      "Epoch 13/25\n",
      "1957/1957 [==============================] - 84s 43ms/step - loss: 0.3309 - acc: 0.8812\n",
      "Epoch 14/25\n",
      "1957/1957 [==============================] - 85s 44ms/step - loss: 0.3141 - acc: 0.8862\n",
      "Epoch 15/25\n",
      "1957/1957 [==============================] - 82s 42ms/step - loss: 0.3002 - acc: 0.8927\n",
      "Epoch 16/25\n",
      "1957/1957 [==============================] - 83s 42ms/step - loss: 0.2826 - acc: 0.8985\n",
      "Epoch 17/25\n",
      "1957/1957 [==============================] - 84s 43ms/step - loss: 0.2703 - acc: 0.9050\n",
      "Epoch 18/25\n",
      "1957/1957 [==============================] - 83s 42ms/step - loss: 0.2600 - acc: 0.9077\n",
      "Epoch 19/25\n",
      "1957/1957 [==============================] - 86s 44ms/step - loss: 0.2519 - acc: 0.9091\n",
      "Epoch 20/25\n",
      "1957/1957 [==============================] - 86s 44ms/step - loss: 0.2386 - acc: 0.9152\n",
      "Epoch 21/25\n",
      "1957/1957 [==============================] - 85s 44ms/step - loss: 0.2327 - acc: 0.9182\n",
      "Epoch 22/25\n",
      "1957/1957 [==============================] - 84s 43ms/step - loss: 0.2238 - acc: 0.9208\n",
      "Epoch 23/25\n",
      "1957/1957 [==============================] - 84s 43ms/step - loss: 0.2101 - acc: 0.9270\n",
      "Epoch 24/25\n",
      "1957/1957 [==============================] - 81s 41ms/step - loss: 0.2109 - acc: 0.9253\n",
      "Epoch 25/25\n",
      "1957/1957 [==============================] - 82s 42ms/step - loss: 0.2017 - acc: 0.9289\n"
     ]
    },
    {
     "data": {
      "text/plain": [
       "<tensorflow.python.keras.callbacks.History at 0x7fec4df01910>"
      ]
     },
     "execution_count": 45,
     "metadata": {},
     "output_type": "execute_result"
    }
   ],
   "source": [
    "model = create_cnn()\n",
    "model.fit(X, y, epochs = 25, batch_size = 32, shuffle = True)"
   ]
  },
  {
   "cell_type": "code",
   "execution_count": 46,
   "metadata": {},
   "outputs": [],
   "source": [
    "# Save model\n",
    "#model_filename = \"cnn_mfcc.pk1\"\n",
    "#with open(model_filename, 'wb') as file:\n",
    "    #pickle.dump(model, file)"
   ]
  },
  {
   "cell_type": "code",
   "execution_count": 47,
   "metadata": {},
   "outputs": [],
   "source": [
    "def test_model(model, input_files):\n",
    "    '''\n",
    "    Function to benchmark input model against test set by windowing test file data.\n",
    "    Returns a dataframe of class probabilities, overall predictions, ground truth, and filename.\n",
    "    Returns accuracy metric.\n",
    "    '''\n",
    "    \n",
    "    # Initialize a total results list\n",
    "    all_results = []\n",
    "    \n",
    "    for row in input_files.iterrows():\n",
    "        # Initialize a local results list\n",
    "        local_results = []\n",
    "        \n",
    "        # Initialize min and max values for each file for scaling\n",
    "        _min, _max = float('inf'), -float('inf')\n",
    "        \n",
    "        # Get the numerical label for the emotion of the file\n",
    "        label = classes[classes['emotion'] == row[1]['emotion']].index[0]\n",
    "        \n",
    "        # Load the file\n",
    "        wav, sr = librosa.load(row[1]['filename'])\n",
    "        \n",
    "        # Create an array to hold features for each window\n",
    "        X = []\n",
    "        \n",
    "        # Iterate over sliding 0.4s windows of the audio file\n",
    "        for i in range(int((wav.shape[0]/sr-config.window)/config.test_shift)):\n",
    "            X_sample = wav[i*config.shift: i*config.shift + config.step] # slice out 0.4s window\n",
    "            X_mfccs = librosa.feature.mfcc(X_sample, sr, n_mfcc = config.n_mfcc, n_fft = config.n_fft,\n",
    "                                            hop_length = config.n_fft)[1:config.n_feat + 1] # generate mfccs from sample\n",
    "            \n",
    "            _min = min(np.amin(X_mfccs), _min)\n",
    "            _max = max(np.amax(X_mfccs), _max) # check min and max values\n",
    "            X.append(X_mfccs) # add features of window to X\n",
    "        \n",
    "        # Put window data into array, scale, then reshape\n",
    "        X = np.array(X)\n",
    "        X = (X - _min) / (_max - _min)\n",
    "        X = X.reshape(X.shape[0], X.shape[1], X.shape[2], 1)\n",
    "        \n",
    "        # Feed data for each window into model for prediction\n",
    "        for i in range(X.shape[0]):\n",
    "            window = X[i].reshape(1, X.shape[1], X.shape[2], 1)\n",
    "            local_results.append(model.predict(window))\n",
    "        \n",
    "        # Aggregate predictions for file into one then append to all_results\n",
    "        local_results = (np.sum(np.array(local_results), axis = 0)/len(local_results))[0]\n",
    "        local_results = list(local_results)\n",
    "        prediction = np.argmax(local_results)\n",
    "        local_results.append(prediction)\n",
    "        local_results.append(label)\n",
    "        local_results.append(row[1]['filename'])\n",
    "        all_results.append(local_results)\n",
    "        \n",
    "    # Turn all results into a dataframe\n",
    "    df_cols = ['neutral', 'happy', 'sad', 'angry', 'fearful', 'disgusted', 'surprised', 'prediction', 'ground_truth', 'filename']\n",
    "    all_results = pd.DataFrame(all_results, columns = df_cols)\n",
    "    \n",
    "    # Compute accuracy\n",
    "    corrects = (all_results['prediction'] == all_results['ground_truth']).value_counts().loc[True]\n",
    "    incorrects = (all_results['prediction'] == all_results['ground_truth']).value_counts().loc[False]\n",
    "    accuracy = corrects / all_results.shape[0]\n",
    "    print(f'Validation Set Accuracy: {accuracy}')\n",
    "\n",
    "    return all_results, accuracy"
   ]
  },
  {
   "cell_type": "code",
   "execution_count": 48,
   "metadata": {},
   "outputs": [
    {
     "name": "stdout",
     "output_type": "stream",
     "text": [
      "Validation Set Accuracy: 0.8728395061728395\n"
     ]
    }
   ],
   "source": [
    "results, accuracy = test_model(model, test)"
   ]
  },
  {
   "cell_type": "code",
   "execution_count": 49,
   "metadata": {},
   "outputs": [],
   "source": [
    "results.to_csv('test_results.csv')"
   ]
  },
  {
   "cell_type": "code",
   "execution_count": 50,
   "metadata": {},
   "outputs": [
    {
     "data": {
      "text/plain": [
       "5    142\n",
       "2    123\n",
       "1    121\n",
       "6    108\n",
       "4    108\n",
       "0    106\n",
       "3    102\n",
       "Name: prediction, dtype: int64"
      ]
     },
     "execution_count": 50,
     "metadata": {},
     "output_type": "execute_result"
    }
   ],
   "source": [
    "results['prediction'].value_counts()"
   ]
  },
  {
   "cell_type": "code",
   "execution_count": 51,
   "metadata": {},
   "outputs": [],
   "source": [
    "# Addendum - function to see if model was close to making correct prediction\n",
    "\n",
    "def is_model_close(results, threshold):\n",
    "    close = []\n",
    "\n",
    "    for row in results.iterrows():\n",
    "        maybes = (row[1][list(classes['emotion'])] > threshold)\n",
    "        close.append(classes.loc[row[1]['ground_truth'], 'emotion'] in list(maybes[maybes == True].index))\n",
    "    \n",
    "    close = pd.DataFrame(close)\n",
    "    \n",
    "    acc = close[0].value_counts()[True]/(results.shape[0])\n",
    "    \n",
    "    print('At threshold of %s accuracy is %s' % (threshold, acc))\n",
    "\n",
    "    return close[0].value_counts()"
   ]
  },
  {
   "cell_type": "code",
   "execution_count": 52,
   "metadata": {},
   "outputs": [
    {
     "name": "stdout",
     "output_type": "stream",
     "text": [
      "At threshold of 0.2 accuracy is 0.9432098765432099\n"
     ]
    },
    {
     "data": {
      "text/plain": [
       "True     764\n",
       "False     46\n",
       "Name: 0, dtype: int64"
      ]
     },
     "execution_count": 52,
     "metadata": {},
     "output_type": "execute_result"
    }
   ],
   "source": [
    "is_model_close(results, 0.2)"
   ]
  },
  {
   "cell_type": "code",
   "execution_count": 53,
   "metadata": {},
   "outputs": [],
   "source": [
    "def plot_confusion(truth, pred, normalize = True):\n",
    "    cm = confusion_matrix(truth, pred)\n",
    "    \n",
    "    if normalize == True:\n",
    "        cm = cm.astype('float') / cm.sum(axis=1)[:, np.newaxis]\n",
    "    \n",
    "    plt.figure(figsize=(10,8))\n",
    "    sns.heatmap(cm, cmap = 'Blues', annot = True,\n",
    "                xticklabels = classes['emotion'],\n",
    "                yticklabels = classes['emotion'])\n",
    "    plt.xlabel('Prediction')\n",
    "    plt.ylabel('Truth');"
   ]
  },
  {
   "cell_type": "code",
   "execution_count": 54,
   "metadata": {},
   "outputs": [
    {
     "data": {
      "image/png": "[encoded data removed]",
      "text/plain": [
       "<Figure size 720x576 with 2 Axes>"
      ]
     },
     "metadata": {
      "needs_background": "light"
     },
     "output_type": "display_data"
    }
   ],
   "source": [
    "# Confusion matrix for model results on test data\n",
    "\n",
    "plot_confusion(results['ground_truth'], results['prediction'])"
   ]
  },
  {
   "cell_type": "code",
   "execution_count": 55,
   "metadata": {},
   "outputs": [],
   "source": [
    "# Function to determine model performance on the training set\n",
    "\n",
    "def train_results(X, y, plot = True, normalize = True):\n",
    "    \n",
    "    # Create lists to hold truth and predictions. Initialize counter for correct predictions.\n",
    "    truth = []\n",
    "    pred = []\n",
    "    corrects = 0\n",
    "\n",
    "    # iterate through the list of training examples\n",
    "    for i in range(X.shape[0]):\n",
    "        tr = np.argmax(y[i]) # determine truth\n",
    "        truth.append(tr)\n",
    "        train_point = X[i].reshape(1, X.shape[1], X.shape[2], 1)\n",
    "        pr = np.argmax(model.predict(train_point)) # make prediction\n",
    "        pred.append(pr)\n",
    "        \n",
    "        # increment counter if correct\n",
    "        if pr == tr:\n",
    "            corrects += 1 \n",
    "    \n",
    "    # determine accuracy from number of correct predictions\n",
    "    accuracy = corrects / X.shape[0]\n",
    "    \n",
    "    # plot confusion matrix using previously defined function\n",
    "    if plot == True:\n",
    "        plot_confusion(truth, pred, normalize = normalize)\n",
    "    \n",
    "    return accuracy"
   ]
  },
  {
   "cell_type": "code",
   "execution_count": 56,
   "metadata": {},
   "outputs": [
    {
     "name": "stdout",
     "output_type": "stream",
     "text": [
      "0.9781074348492591\n"
     ]
    },
    {
     "data": {
      "image/png": "[encoded data removed]",
      "text/plain": [
       "<Figure size 720x576 with 2 Axes>"
      ]
     },
     "metadata": {
      "needs_background": "light"
     },
     "output_type": "display_data"
    }
   ],
   "source": [
    "# Accuracy on training data\n",
    "# Of course, we expect this to be very high\n",
    "\n",
    "# Confusion matrix for model results on training data\n",
    "\n",
    "acc = train_results(X, y)\n",
    "print(acc)"
   ]
  },
  {
   "cell_type": "code",
   "execution_count": 57,
   "metadata": {},
   "outputs": [],
   "source": [
    "# Load packages for additional visualizations\n",
    "\n",
    "import seaborn as sns\n",
    "import matplotlib.pyplot as plt\n",
    "%matplotlib inline\n",
    "\n",
    "from bokeh.plotting import figure, show\n",
    "from bokeh.embed import components\n",
    "from bokeh.models import CategoricalColorMapper, HoverTool"
   ]
  },
  {
   "cell_type": "code",
   "execution_count": 58,
   "metadata": {},
   "outputs": [],
   "source": [
    "results = pd.read_csv('test_results.csv')\n",
    "\n",
    "results.drop(columns = 'Unnamed: 0', inplace = True)"
   ]
  },
  {
   "cell_type": "code",
   "execution_count": 59,
   "metadata": {},
   "outputs": [],
   "source": [
    "results['correct'] = results['prediction'] == results['ground_truth']"
   ]
  },
  {
   "cell_type": "code",
   "execution_count": 60,
   "metadata": {},
   "outputs": [],
   "source": [
    "test_dist = results['ground_truth'].value_counts()\n",
    "correct_dist = results[results['correct'] == True]['ground_truth'].value_counts()"
   ]
  },
  {
   "cell_type": "code",
   "execution_count": 61,
   "metadata": {},
   "outputs": [],
   "source": [
    "total_acc = results[results['correct'] == True].shape[0] / results.shape[0]\n",
    "\n",
    "acc = []\n",
    "\n",
    "for i in range(7):\n",
    "    acc.append(correct_dist[i] / test_dist[i])\n",
    "\n",
    "acc = acc\n",
    "acc = [round(x*100,2) for x in acc]\n",
    "emotions = ['Neutral', 'Happy', 'Sad', 'Angry', 'Fearful', 'Disgusted', 'Surprised']\n",
    "\n",
    "df_acc = pd.DataFrame({'emotion': emotions, 'accuracy': acc})\n",
    "df_acc.sort_values(by = 'accuracy', ascending = False, inplace = True)\n",
    "\n",
    "emos = list(df_acc['emotion']) + ['Mean']\n",
    "accs = list(df_acc['accuracy']) + [100*total_acc]"
   ]
  },
  {
   "cell_type": "code",
   "execution_count": 62,
   "metadata": {},
   "outputs": [
    {
     "data": {
      "image/png": "[encoded data removed]",
      "text/plain": [
       "<Figure size 720x288 with 1 Axes>"
      ]
     },
     "metadata": {
      "needs_background": "light"
     },
     "output_type": "display_data"
    }
   ],
   "source": [
    "# Plot figure that shows model's accuracy for predicting each emotion on test data\n",
    "# Mean accuracy displayed as blue bar on right\n",
    "\n",
    "plt.figure(figsize=(10,4))\n",
    "sns.set(style = 'darkgrid')\n",
    "sns.set_context('talk')\n",
    "sns.barplot(emos, accs, palette = ['#27824a','#27824a','#27824a','#27824a','#27824a',\n",
    "                                   '#27824a','#27824a','#273682'])\n",
    "sns.despine()\n",
    "plt.ylim((0,100))\n",
    "#plt.xlabel('Emotions')\n",
    "#plt.xticks(rotation = 75)\n",
    "plt.ylabel('Accuracy')\n",
    "plt.tight_layout()"
   ]
  },
  {
   "cell_type": "code",
   "execution_count": null,
   "metadata": {},
   "outputs": [],
   "source": []
  }
 ],
 "metadata": {
  "kernelspec": {
   "display_name": "Python 3",
   "language": "python",
   "name": "python3"
  },
  "language_info": {
   "codemirror_mode": {
    "name": "ipython",
    "version": 3
   },
   "file_extension": ".py",
   "mimetype": "text/x-python",
   "name": "python",
   "nbconvert_exporter": "python",
   "pygments_lexer": "ipython3",
   "version": "3.8.3"
  }
 },
 "nbformat": 4,
 "nbformat_minor": 4
}
